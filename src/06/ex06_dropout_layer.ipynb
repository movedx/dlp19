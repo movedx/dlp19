{
 "cells": [
  {
   "cell_type": "markdown",
   "metadata": {},
   "source": [
    "# Dropout\n",
    "\n",
    "Welcome to the 6th week of deep learning programming!\n",
    "\n",
    "So far we have worked with deep fully-connected networks, using them to explore different optimization strategies and network architectures. Fully-connected networks are a good testbed for experimentation because they are very computationally efficient, but in practice all state-of-the-art results use convolutional networks instead.\n",
    "\n",
    "In this week you will implement convolutional and max pooling layers in `ex06_conv_layer` and dropout layer in `ex06_dropout_layer`.\n",
    "\n",
    "\n",
    "Dropout [1] is a technique for regularizing neural networks by randomly setting some features to zero during the forward pass.\n",
    "\n",
    "[1] Geoffrey E. Hinton et al, \"Improving neural networks by preventing co-adaptation of feature detectors\", arXiv 2012"
   ]
  },
  {
   "cell_type": "code",
   "execution_count": 1,
   "metadata": {
    "pycharm": {
     "is_executing": false
    }
   },
   "outputs": [],
   "source": [
    "# As usual, a bit of setup\n",
    "from __future__ import print_function\n",
    "import time\n",
    "import numpy as np\n",
    "import matplotlib.pyplot as plt\n",
    "from utils.fc_net import *\n",
    "from utils.layers import *\n",
    "from utils.data_utils import get_CIFAR10_data\n",
    "from utils.gradient_check import eval_numerical_gradient, eval_numerical_gradient_array\n",
    "from utils.solver import Solver\n",
    "\n",
    "%matplotlib inline\n",
    "plt.rcParams['figure.figsize'] = (10.0, 8.0) # set default size of plots\n",
    "plt.rcParams['image.interpolation'] = 'nearest'\n",
    "plt.rcParams['image.cmap'] = 'gray'\n",
    "\n",
    "\n",
    "%load_ext autoreload\n",
    "%autoreload 2\n",
    "\n",
    "def rel_error(x, y):\n",
    "    \"\"\" returns relative error \"\"\"\n",
    "    return np.max(np.abs(x - y) / (np.maximum(1e-8, np.abs(x) + np.abs(y))))"
   ]
  },
  {
   "cell_type": "code",
   "execution_count": 7,
   "metadata": {
    "pycharm": {
     "is_executing": false
    }
   },
   "outputs": [
    {
     "name": "stdout",
     "text": [
      "X_train:  (49000, 3, 32, 32)\ny_train:  (49000,)\nX_val:  (1000, 3, 32, 32)\ny_val:  (1000,)\nX_test:  (1000, 3, 32, 32)\ny_test:  (1000,)\n"
     ],
     "output_type": "stream"
    }
   ],
   "source": [
    "# Load the (preprocessed) CIFAR10 data.\n",
    "data = get_CIFAR10_data()\n",
    "for k, v in data.items():\n",
    "    print('%s: ' % k, v.shape)"
   ]
  },
  {
   "cell_type": "markdown",
   "metadata": {},
   "source": [
    "# Dropout forward pass (5pt)\n",
    "In the file `utils/layers.py`, implement the forward pass for dropout. Since dropout behaves differently during training and testing, make sure to implement the operation for both modes.\n",
    "\n",
    "Once you have done so, run the cell below to test your implementation."
   ]
  },
  {
   "cell_type": "code",
   "execution_count": 2,
   "metadata": {
    "pycharm": {
     "is_executing": false
    }
   },
   "outputs": [
    {
     "name": "stdout",
     "text": [
      "Running tests with p =  0.3\nMean of input:  10.000207878477502\nMean of train-time output:  10.035072797050494\nMean of test-time output:  10.000207878477502\nFraction of train-time output set to zero:  0.699124\nFraction of test-time output set to zero:  0.0\n\nRunning tests with p =  0.6\nMean of input:  10.000207878477502\nMean of train-time output:  9.976910758765856\nMean of test-time output:  10.000207878477502\nFraction of train-time output set to zero:  0.401368\nFraction of test-time output set to zero:  0.0\n\nRunning tests with p =  0.75\nMean of input:  10.000207878477502\nMean of train-time output:  9.993068588261146\nMean of test-time output:  10.000207878477502\nFraction of train-time output set to zero:  0.250496\nFraction of test-time output set to zero:  0.0\n\n"
     ],
     "output_type": "stream"
    }
   ],
   "source": [
    "np.random.seed(231)\n",
    "x = np.random.randn(500, 500) + 10\n",
    "\n",
    "for p in [0.3, 0.6, 0.75]:\n",
    "    out, _ = dropout_forward(x, {'mode': 'train', 'p': p})\n",
    "    out_test, _ = dropout_forward(x, {'mode': 'test', 'p': p})\n",
    "    \n",
    "    print('Running tests with p = ', p)\n",
    "    print('Mean of input: ', x.mean())\n",
    "    print('Mean of train-time output: ', out.mean())\n",
    "    print('Mean of test-time output: ', out_test.mean())\n",
    "    print('Fraction of train-time output set to zero: ', (out == 0).mean())\n",
    "    print('Fraction of test-time output set to zero: ', (out_test == 0).mean())\n",
    "    print()"
   ]
  },
  {
   "cell_type": "markdown",
   "metadata": {},
   "source": [
    "# Dropout backward pass (3pt)\n",
    "In the file `utils/layers.py`, implement the backward pass for dropout. After doing so, run the following cell to numerically gradient-check your implementation."
   ]
  },
  {
   "cell_type": "code",
   "execution_count": 5,
   "metadata": {
    "pycharm": {
     "is_executing": false
    }
   },
   "outputs": [
    {
     "name": "stdout",
     "text": [
      "dx relative error:  5.445612718272284e-11\n"
     ],
     "output_type": "stream"
    }
   ],
   "source": [
    "np.random.seed(231)\n",
    "x = np.random.randn(10, 10) + 10\n",
    "dout = np.random.randn(*x.shape)\n",
    "\n",
    "dropout_param = {'mode': 'train', 'p': 0.8, 'seed': 123}\n",
    "out, cache = dropout_forward(x, dropout_param)\n",
    "dx = dropout_backward(dout, cache)\n",
    "dx_num = eval_numerical_gradient_array(lambda xx: dropout_forward(xx, dropout_param)[0], x, dout)\n",
    "\n",
    "print('dx relative error: ', rel_error(dx, dx_num))"
   ]
  },
  {
   "cell_type": "markdown",
   "metadata": {},
   "source": [
    "# Regularization experiment\n",
    "As an experiment, we will train a pair of two-layer networks on 500 training examples: one will use no dropout (p=1), and one will use a dropout probability of 0.25. We will then visualize the training and validation accuracies of the two networks over time."
   ]
  },
  {
   "cell_type": "code",
   "execution_count": 8,
   "metadata": {
    "scrolled": false,
    "pycharm": {
     "is_executing": false
    }
   },
   "outputs": [
    {
     "name": "stdout",
     "text": [
      "1\n",
      "(Iteration 1 / 125) loss: 7.856644\n(Epoch 0 / 25) train acc: 0.274000; val_acc: 0.192000\n",
      "(Epoch 1 / 25) train acc: 0.368000; val_acc: 0.238000\n",
      "(Epoch 2 / 25) train acc: 0.540000; val_acc: 0.239000\n",
      "(Epoch 3 / 25) train acc: 0.622000; val_acc: 0.250000\n",
      "(Epoch 4 / 25) train acc: 0.714000; val_acc: 0.266000\n",
      "(Epoch 5 / 25) train acc: 0.726000; val_acc: 0.284000\n",
      "(Epoch 6 / 25) train acc: 0.788000; val_acc: 0.269000\n",
      "(Epoch 7 / 25) train acc: 0.870000; val_acc: 0.284000\n",
      "(Epoch 8 / 25) train acc: 0.882000; val_acc: 0.279000\n",
      "(Epoch 9 / 25) train acc: 0.932000; val_acc: 0.297000\n",
      "(Epoch 10 / 25) train acc: 0.896000; val_acc: 0.300000\n",
      "(Epoch 11 / 25) train acc: 0.928000; val_acc: 0.285000\n",
      "(Epoch 12 / 25) train acc: 0.920000; val_acc: 0.253000\n",
      "(Epoch 13 / 25) train acc: 0.948000; val_acc: 0.280000\n",
      "(Epoch 14 / 25) train acc: 0.980000; val_acc: 0.309000\n",
      "(Epoch 15 / 25) train acc: 0.962000; val_acc: 0.315000\n",
      "(Epoch 16 / 25) train acc: 0.978000; val_acc: 0.297000\n",
      "(Epoch 17 / 25) train acc: 0.968000; val_acc: 0.295000\n",
      "(Epoch 18 / 25) train acc: 0.984000; val_acc: 0.297000\n",
      "(Epoch 19 / 25) train acc: 0.996000; val_acc: 0.298000\n",
      "(Epoch 20 / 25) train acc: 0.988000; val_acc: 0.294000\n(Iteration 101 / 125) loss: 0.121793\n",
      "(Epoch 21 / 25) train acc: 0.990000; val_acc: 0.299000\n",
      "(Epoch 22 / 25) train acc: 1.000000; val_acc: 0.306000\n",
      "(Epoch 23 / 25) train acc: 1.000000; val_acc: 0.293000\n",
      "(Epoch 24 / 25) train acc: 1.000000; val_acc: 0.289000\n",
      "(Epoch 25 / 25) train acc: 0.996000; val_acc: 0.308000\n0.25\n",
      "(Iteration 1 / 125) loss: 17.045780\n(Epoch 0 / 25) train acc: 0.208000; val_acc: 0.186000\n",
      "(Epoch 1 / 25) train acc: 0.380000; val_acc: 0.217000\n",
      "(Epoch 2 / 25) train acc: 0.450000; val_acc: 0.288000\n",
      "(Epoch 3 / 25) train acc: 0.478000; val_acc: 0.276000\n",
      "(Epoch 4 / 25) train acc: 0.578000; val_acc: 0.326000\n",
      "(Epoch 5 / 25) train acc: 0.576000; val_acc: 0.303000\n",
      "(Epoch 6 / 25) train acc: 0.660000; val_acc: 0.316000\n",
      "(Epoch 7 / 25) train acc: 0.674000; val_acc: 0.316000\n",
      "(Epoch 8 / 25) train acc: 0.692000; val_acc: 0.304000\n",
      "(Epoch 9 / 25) train acc: 0.734000; val_acc: 0.303000\n",
      "(Epoch 10 / 25) train acc: 0.738000; val_acc: 0.295000\n",
      "(Epoch 11 / 25) train acc: 0.778000; val_acc: 0.291000\n",
      "(Epoch 12 / 25) train acc: 0.788000; val_acc: 0.298000\n",
      "(Epoch 13 / 25) train acc: 0.764000; val_acc: 0.301000\n",
      "(Epoch 14 / 25) train acc: 0.796000; val_acc: 0.300000\n",
      "(Epoch 15 / 25) train acc: 0.812000; val_acc: 0.321000\n",
      "(Epoch 16 / 25) train acc: 0.854000; val_acc: 0.328000\n",
      "(Epoch 17 / 25) train acc: 0.824000; val_acc: 0.315000\n",
      "(Epoch 18 / 25) train acc: 0.838000; val_acc: 0.321000\n",
      "(Epoch 19 / 25) train acc: 0.842000; val_acc: 0.298000\n",
      "(Epoch 20 / 25) train acc: 0.880000; val_acc: 0.330000\n(Iteration 101 / 125) loss: 6.483293\n",
      "(Epoch 21 / 25) train acc: 0.884000; val_acc: 0.337000\n",
      "(Epoch 22 / 25) train acc: 0.876000; val_acc: 0.297000\n",
      "(Epoch 23 / 25) train acc: 0.886000; val_acc: 0.303000\n",
      "(Epoch 24 / 25) train acc: 0.892000; val_acc: 0.305000\n",
      "(Epoch 25 / 25) train acc: 0.886000; val_acc: 0.281000\n"
     ],
     "output_type": "stream"
    }
   ],
   "source": [
    "# Train two identical nets, one with dropout and one without\n",
    "np.random.seed(231)\n",
    "num_train = 500\n",
    "small_data = {\n",
    "  'X_train': data['X_train'][:num_train],\n",
    "  'y_train': data['y_train'][:num_train],\n",
    "  'X_val': data['X_val'],\n",
    "  'y_val': data['y_val'],\n",
    "}\n",
    "\n",
    "solvers = {}\n",
    "dropout_choices = [1, 0.25]\n",
    "for dropout in dropout_choices:\n",
    "    model = FullyConnectedNet([500], dropout=dropout)\n",
    "    print(dropout)\n",
    "    \n",
    "    solver = Solver(model, small_data,\n",
    "                    num_epochs=25, batch_size=100,\n",
    "                    update_rule='adam',\n",
    "                    optim_config={\n",
    "                        'learning_rate': 5e-4,\n",
    "                    },\n",
    "                    verbose=True, print_every=100)\n",
    "    solver.train()\n",
    "    solvers[dropout] = solver"
   ]
  },
  {
   "cell_type": "code",
   "execution_count": 9,
   "metadata": {
    "pycharm": {
     "is_executing": false
    }
   },
   "outputs": [
    {
     "data": {
      "text/plain": "<matplotlib.figure.Figure at 0x21a9eadd780>",
      "image/png": "[encoded data removed]"
     },
     "metadata": {},
     "output_type": "display_data"
    }
   ],
   "source": [
    "# Plot train and validation accuracies of the two models\n",
    "\n",
    "train_accs = []\n",
    "val_accs = []\n",
    "for dropout in dropout_choices:\n",
    "    solver = solvers[dropout]\n",
    "    train_accs.append(solver.train_acc_history[-1])\n",
    "    val_accs.append(solver.val_acc_history[-1])\n",
    "\n",
    "plt.subplot(3, 1, 1)\n",
    "for dropout in dropout_choices:\n",
    "    plt.plot(solvers[dropout].train_acc_history, 'o', label='%.2f dropout' % dropout)\n",
    "plt.title('Train accuracy')\n",
    "plt.xlabel('Epoch')\n",
    "plt.ylabel('Accuracy')\n",
    "plt.legend(ncol=2, loc='lower right')\n",
    "  \n",
    "plt.subplot(3, 1, 2)\n",
    "for dropout in dropout_choices:\n",
    "    plt.plot(solvers[dropout].val_acc_history, 'o', label='%.2f dropout' % dropout)\n",
    "plt.title('Val accuracy')\n",
    "plt.xlabel('Epoch')\n",
    "plt.ylabel('Accuracy')\n",
    "plt.legend(ncol=2, loc='lower right')\n",
    "\n",
    "plt.gcf().set_size_inches(15, 15)\n",
    "plt.show()"
   ]
  },
  {
   "cell_type": "markdown",
   "metadata": {},
   "source": [
    "# Question (3pt)\n",
    "Explain what you see in this experiment. What does it suggest about dropout?"
   ]
  },
  {
   "cell_type": "markdown",
   "metadata": {},
   "source": [
    "# Answer\n"
   ]
  },
  {
   "cell_type": "markdown",
   "metadata": {},
   "source": [
    "Write your answer here!"
   ]
  }
 ],
 "metadata": {
  "kernelspec": {
   "display_name": "Python 3",
   "language": "python",
   "name": "python3"
  },
  "language_info": {
   "codemirror_mode": {
    "name": "ipython",
    "version": 3
   },
   "file_extension": ".py",
   "mimetype": "text/x-python",
   "name": "python",
   "nbconvert_exporter": "python",
   "pygments_lexer": "ipython3",
   "version": "3.6.5"
  }
 },
 "nbformat": 4,
 "nbformat_minor": 1
}