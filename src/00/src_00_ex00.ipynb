{
 "cells": [
  {
   "cell_type": "markdown",
   "metadata": {},
   "source": [
    "# Deep Learning Programming: Exercise 00\n",
    "\n",
    "The purpose of this Exercise is solely to get the infrastructure up and running.\n",
    "Please make sure you\n",
    "\n",
    "- created a virtual environment\n",
    "- activated it\n",
    "- installed the dependencies in requirements.txt\n",
    "\n",
    "Afterwards, make sure you switched directories to src/00/ and ran jupyter-notebook there."
   ]
  },
  {
   "cell_type": "markdown",
   "metadata": {},
   "source": [
    "## Task 1:\n",
    "\n",
    "The cell below generates a list of installed python packages.\n",
    "This is just the baseline and will be expanded in the future, but to make sure nothing goes wrong, just execute the cell, add and commit the generated file \"local_requirements.txt\" to your local git repository."
   ]
  },
  {
   "cell_type": "code",
   "execution_count": 1,
   "metadata": {},
   "outputs": [],
   "source": [
    "import os\n",
    "try:\n",
    "    os.system(\"pip freeze > local_requirements.txt\")\n",
    "except:\n",
    "    pass"
   ]
  },
  {
   "cell_type": "markdown",
   "metadata": {},
   "source": [
    "## Task 2:\n",
    "\n",
    "We're using a CI system to automatically check your submissions.\n",
    "To make sure everything works as expected, follow the instructions in the next cell."
   ]
  },
  {
   "cell_type": "code",
   "execution_count": 3,
   "metadata": {},
   "outputs": [],
   "source": [
    "def hello_world() -> str:\n",
    "    ####################################################################\n",
    "    # uncomment the return statment below\n",
    "    # commit, tag and push to your repository!\n",
    "    ####################################################################\n",
    "    \n",
    "    #return \"hello world\"\n",
    "    \n",
    "    pass\n"
   ]
  },
  {
   "cell_type": "markdown",
   "metadata": {},
   "source": [
    "## Submitting your results:\n",
    "\n",
    "As described in the README, please:\n",
    "\n",
    "- follow the git workcycle: `add` and `commit` your changes locally. These should include:\n",
    "  - A new file: `src/00/local_requirements.txt`\n",
    "  - A modified file: `src/00/ex00.ipynb`\n",
    "- in case you diverged from the master branch (unlikely here but you may wish to do so in future exercises) - `merge` everything back to the `master` branch.\n",
    "- `tag` you final commit with \"ex00\". You can also do this in the webinterface after pushing.\n",
    "- `push` to your GitLab repository, don't forget the `--tags` flag!\n",
    "\n",
    "It is very likely that you're faster committing your results than we are setting up the CI backend for your GitLab repository - don't worry about failed tests this time!"
   ]
  }
 ],
 "metadata": {
  "kernelspec": {
   "display_name": "Python 3",
   "language": "python",
   "name": "python3"
  },
  "language_info": {
   "codemirror_mode": {
    "name": "ipython",
    "version": 3
   },
   "file_extension": ".py",
   "mimetype": "text/x-python",
   "name": "python",
   "nbconvert_exporter": "python",
   "pygments_lexer": "ipython3",
   "version": "3.6.5"
  }
 },
 "nbformat": 4,
 "nbformat_minor": 2
}
