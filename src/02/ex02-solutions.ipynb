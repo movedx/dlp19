{
 "cells": [
  {
   "cell_type": "markdown",
   "metadata": {},
   "source": [
    "# Deep Learning Programming Ex 02: Multi-Class SVM\n",
    "\n",
    "In this exercise you will:\n",
    "\n",
    "- Build the general architecture of a multi-class SVM, including:\n",
    "    - Calculating the cost function and its gradient\n",
    "    - Find the optimal hyperparameters by cross validation\n",
    "\n",
    "Instruction:\n",
    "\n",
    "- Run each cell and read the comments carefully (in the right order)\n",
    "- Implement the missing codes that are required"
   ]
  },
  {
   "cell_type": "markdown",
   "metadata": {},
   "source": [
    "# Load Required Libraries [0pt]"
   ]
  },
  {
   "cell_type": "code",
   "execution_count": 1,
   "metadata": {},
   "outputs": [],
   "source": [
    "import random\n",
    "import numpy as np\n",
    "from utils.data_utils import load_CIFAR10\n",
    "import matplotlib.pyplot as plt\n",
    "import time"
   ]
  },
  {
   "cell_type": "markdown",
   "metadata": {},
   "source": [
    "## CIFAR-10 load data [0pt]\n",
    "\n",
    "Run the next cell to define a data helper function that does some basic preprocessing."
   ]
  },
  {
   "cell_type": "code",
   "execution_count": 2,
   "metadata": {},
   "outputs": [
    {
     "name": "stdout",
     "output_type": "stream",
     "text": [
      "Train data shape:  (49000, 3073)\n",
      "Train labels shape:  (49000,)\n",
      "Validation data shape:  (1000, 3073)\n",
      "Validation labels shape:  (1000,)\n",
      "Test data shape:  (1000, 3073)\n",
      "Test labels shape:  (1000,)\n",
      "dev data shape:  (500, 3073)\n",
      "dev labels shape:  (500,)\n"
     ]
    }
   ],
   "source": [
    "def get_CIFAR10_data(num_training=49000, num_validation=1000, num_test=1000, num_dev=500):\n",
    "    \"\"\"\n",
    "    Load the CIFAR-10 dataset from disk and perform preprocessing to prepare\n",
    "    it for the linear classifier. These are the same steps as we used for the\n",
    "    SVM, but condensed to a single function.  \n",
    "    \"\"\"\n",
    "    # Load the raw CIFAR-10 data\n",
    "    cifar10_dir = '../../data/cifar/'\n",
    "    X_train, y_train, X_test, y_test = load_CIFAR10(cifar10_dir)\n",
    "    \n",
    "    # subsample the data\n",
    "    mask = list(range(num_training, num_training + num_validation))\n",
    "    X_val = X_train[mask]\n",
    "    y_val = y_train[mask]\n",
    "    mask = list(range(num_training))\n",
    "    X_train = X_train[mask]\n",
    "    y_train = y_train[mask]\n",
    "    mask = list(range(num_test))\n",
    "    X_test = X_test[mask]\n",
    "    y_test = y_test[mask]\n",
    "    mask = np.random.choice(num_training, num_dev, replace=False)\n",
    "    X_dev = X_train[mask]\n",
    "    y_dev = y_train[mask]\n",
    "    \n",
    "    # Preprocessing: reshape the image data into rows\n",
    "    X_train = np.reshape(X_train, (X_train.shape[0], -1))\n",
    "    X_val = np.reshape(X_val, (X_val.shape[0], -1))\n",
    "    X_test = np.reshape(X_test, (X_test.shape[0], -1))\n",
    "    X_dev = np.reshape(X_dev, (X_dev.shape[0], -1))\n",
    "    \n",
    "    # Normalize the data: subtract the mean image\n",
    "    mean_image = np.mean(X_train, axis = 0)\n",
    "    X_train -= mean_image\n",
    "    X_val -= mean_image\n",
    "    X_test -= mean_image\n",
    "    X_dev -= mean_image\n",
    "    \n",
    "    # add bias dimension and transform into columns\n",
    "    X_train = np.hstack([X_train, np.ones((X_train.shape[0], 1))])\n",
    "    X_val = np.hstack([X_val, np.ones((X_val.shape[0], 1))])\n",
    "    X_test = np.hstack([X_test, np.ones((X_test.shape[0], 1))])\n",
    "    X_dev = np.hstack([X_dev, np.ones((X_dev.shape[0], 1))])\n",
    "    \n",
    "    return X_train, y_train, X_val, y_val, X_test, y_test, X_dev, y_dev\n",
    "\n",
    "\n",
    "# Invoke the above function to get our data.\n",
    "X_train, y_train, X_val, y_val, X_test, y_test, X_dev, y_dev = get_CIFAR10_data()\n",
    "print('Train data shape: ', X_train.shape)\n",
    "print('Train labels shape: ', y_train.shape)\n",
    "print('Validation data shape: ', X_val.shape)\n",
    "print('Validation labels shape: ', y_val.shape)\n",
    "print('Test data shape: ', X_test.shape)\n",
    "print('Test labels shape: ', y_test.shape)\n",
    "print('dev data shape: ', X_dev.shape)\n",
    "print('dev labels shape: ', y_dev.shape)"
   ]
  },
  {
   "cell_type": "markdown",
   "metadata": {},
   "source": [
    "## Task 1: Multi-Class SVM - Loss Function and Gradients [5pt]\n",
    "\n",
    "Complete the implementation of svm_loss_naive by implementing a naive analytical gradient descent that uses nested loops."
   ]
  },
  {
   "cell_type": "code",
   "execution_count": 7,
   "metadata": {},
   "outputs": [],
   "source": [
    "def svm_loss_naive(W, X, y, reg):\n",
    "    \"\"\"\n",
    "    Structured SVM loss function, naive implementation (with loops).\n",
    "\n",
    "    Inputs have dimension D, there are C classes, and we operate on minibatches\n",
    "    of N examples.\n",
    "\n",
    "    Inputs:\n",
    "    - W: A numpy array of shape (D, C) containing weights.\n",
    "    - X: A numpy array of shape (N, D) containing a minibatch of data.\n",
    "    - y: A numpy array of shape (N,) containing training labels; y[i] = c means\n",
    "         that X[i] has label c, where 0 <= c < C.\n",
    "    - reg: (float) regularization strength\n",
    "\n",
    "    Returns a tuple of:\n",
    "    - loss as single float\n",
    "    - gradient with respect to weights W; an array of same shape as W\n",
    "    \"\"\"\n",
    "    dW = np.zeros(W.shape) # initialize the gradient as zero\n",
    "    num_classes = W.shape[1]\n",
    "    num_samples = X.shape[0]\n",
    "\n",
    "    #############################################################################\n",
    "    # TODO: Compute the multi-class svm loss and its gradient using explicit    #\n",
    "    # loops. Store the loss in loss and the gradient in dW. Don't forget the    #\n",
    "    # regularization!                                                           #\n",
    "    #############################################################################\n",
    "\n",
    "    loss = 0.0\n",
    "    for i in range(num_samples):\n",
    "        scores = X[i].dot(W)\n",
    "        correct_class_score = scores[y[i]]\n",
    "        for j in range(num_classes):\n",
    "            if j == y[i]:\n",
    "                continue\n",
    "                \n",
    "            margin = scores[j] - correct_class_score + 1 # Delta = 1\n",
    "            \n",
    "            if margin > 0:\n",
    "                loss += margin\n",
    "                dW[:,j] += X[i]\n",
    "                dW[:,y[i]] -= X[i]\n",
    "  \n",
    " \n",
    "    loss /= num_samples\n",
    "    loss += reg * np.sum(W[:W.shape[0]-1,:] * W[:W.shape[0]-1,:])\n",
    "  \n",
    "    dW /= num_samples\n",
    "    dW[:W.shape[0]-1,:] += reg * 2 * W[:W.shape[0]-1,:]\n",
    "    \n",
    "    #############################################################################\n",
    "    #                         END OF YOUR CODE                                  #\n",
    "    #############################################################################\n",
    "    return loss, dW"
   ]
  },
  {
   "cell_type": "markdown",
   "metadata": {},
   "source": [
    "# Check: Gradients [0pt] \n",
    "\n",
    "The next cell is a self-check for you to make sure your SVM implementation works!\n",
    "It compares your analytical gradients to numerically calculated gradients.\n",
    "The numerical and analytical values should be the same up to printing accurracy,\n",
    "relative error should be smaller than $10^{-7}$."
   ]
  },
  {
   "cell_type": "code",
   "execution_count": 8,
   "metadata": {},
   "outputs": [
    {
     "name": "stdout",
     "output_type": "stream",
     "text": [
      "numerical: -7.669782,\tanalytic: -7.669782,\trelative error: 7.748795e-12\n",
      "numerical: 23.902312,\tanalytic: 23.902312,\trelative error: 1.314050e-11\n",
      "numerical: -19.185722,\tanalytic: -19.185722,\trelative error: 2.650223e-12\n",
      "numerical: -2.780978,\tanalytic: -2.780978,\trelative error: 1.218197e-11\n",
      "numerical: -3.188550,\tanalytic: -3.188550,\trelative error: 3.100811e-11\n",
      "numerical: -13.679014,\tanalytic: -13.679014,\trelative error: 5.798379e-12\n",
      "numerical: 7.098582,\tanalytic: 7.098582,\trelative error: 4.823015e-11\n",
      "numerical: -53.292125,\tanalytic: -53.292125,\trelative error: 3.346044e-12\n",
      "numerical: 20.772704,\tanalytic: 20.772704,\trelative error: 2.831548e-11\n",
      "numerical: 0.436102,\tanalytic: 0.436102,\trelative error: 1.990901e-10\n",
      "numerical: 8.933169,\tanalytic: 8.933169,\trelative error: 1.466953e-11\n",
      "numerical: 9.874929,\tanalytic: 9.874929,\trelative error: 1.521589e-11\n",
      "numerical: -3.973107,\tanalytic: -3.973107,\trelative error: 2.929451e-11\n",
      "numerical: -3.014324,\tanalytic: -3.014324,\trelative error: 4.988712e-11\n",
      "numerical: -9.135421,\tanalytic: -9.135421,\trelative error: 1.586689e-11\n",
      "numerical: -8.623306,\tanalytic: -8.623306,\trelative error: 1.711519e-11\n",
      "numerical: -23.494581,\tanalytic: -23.494581,\trelative error: 2.100803e-11\n",
      "numerical: 24.699940,\tanalytic: 24.699940,\trelative error: 4.754103e-12\n",
      "numerical: 8.268848,\tanalytic: 8.268848,\trelative error: 2.249982e-11\n",
      "numerical: -23.048665,\tanalytic: -23.048665,\trelative error: 3.355852e-12\n"
     ]
    }
   ],
   "source": [
    "# Compute the loss and its gradient at W.\n",
    "W = np.random.randn(3073, 10) * 0.0001 \n",
    "loss, grad = svm_loss_naive(W, X_dev, y_dev, 0.0)\n",
    "\n",
    "# Numerically compute the gradient along several randomly chosen dimensions, and\n",
    "# compare them with your analytically computed gradient. The numbers should match\n",
    "# almost exactly along all dimensions.\n",
    "from utils.gradient_check import grad_check_sparse\n",
    "f = lambda w: svm_loss_naive(w, X_dev, y_dev, 0.0)[0]\n",
    "grad_numerical = grad_check_sparse(f, W, grad)\n",
    "\n",
    "# do the gradient check once again with regularization turned on\n",
    "# you didn't forget the regularization gradient did you?\n",
    "loss, grad = svm_loss_naive(W, X_dev, y_dev, 5e1)\n",
    "f = lambda w: svm_loss_naive(w, X_dev, y_dev, 5e1)[0]\n",
    "grad_numerical = grad_check_sparse(f, W, grad)"
   ]
  },
  {
   "cell_type": "markdown",
   "metadata": {},
   "source": [
    "# Task 2: Multi-Class SVM [5pt]\n",
    "\n",
    "Implement a vectorized version of the SVM loss function."
   ]
  },
  {
   "cell_type": "code",
   "execution_count": 9,
   "metadata": {},
   "outputs": [],
   "source": [
    "def svm_loss_vectorized(W, X, y, reg):\n",
    "    \"\"\"\n",
    "    Structured SVM loss function, vectorized implementation.\n",
    "\n",
    "    Inputs and outputs are the same as svm_loss_naive.\n",
    "    \"\"\"\n",
    "    loss = 0.0\n",
    "    dW = np.zeros(W.shape) # initialize the gradient as zero\n",
    "\n",
    "    #############################################################################\n",
    "    # TODO:                                                                     #\n",
    "    # Implement a vectorized version of the structured SVM loss, storing the    #\n",
    "    # result in loss.                                                           #\n",
    "    #############################################################################\n",
    "    num_classes = W.shape[1]\n",
    "    num_train = X.shape[0]\n",
    "    \n",
    "    scores = np.dot(X,W)\n",
    "    \n",
    "    correct_class_scores = scores[range(num_train),y]\n",
    "    \n",
    "    margins = scores - correct_class_scores[:, None] + 1\n",
    "    margins[range(num_train),y] = 0\n",
    "    loss = np.sum(np.maximum(0,margins))/num_train\n",
    "    loss += reg * np.sum(W[:W.shape[0]-1,:] * W[:W.shape[0]-1,:]) \n",
    "    #############################################################################\n",
    "    #                             END OF YOUR CODE                              #\n",
    "    #############################################################################\n",
    "\n",
    "\n",
    "    #############################################################################\n",
    "    # TODO:                                                                     #\n",
    "    # Implement a vectorized version of the gradient for the structured SVM     #\n",
    "    # loss, storing the result in dW.                                           #\n",
    "    #                                                                           #\n",
    "    # Hint: Instead of computing the gradient from scratch, it may be easier    #\n",
    "    # to reuse some of the intermediate values that you used to compute the     #\n",
    "    # loss.                                                                     #\n",
    "    #############################################################################\n",
    "    \n",
    "    # partial gradients for each training example:\n",
    "    slopes = np.zeros((margins.shape)) # default case for correct classifications\n",
    "    slopes[margins > 0] = 1            # where j = k\n",
    "    slopes[range(num_train),y] -= np.sum(slopes, axis = 1) # sum over classes\n",
    "    \n",
    "    dW = np.dot(X.T,slopes)\n",
    "    dW /= num_train\n",
    "    \n",
    "    # -1 indexing to exclude bias in normalization\n",
    "    dW[:W.shape[0]-1,:] += reg * 2 * W[:W.shape[0]-1,:]\n",
    "    #############################################################################\n",
    "    #                             END OF YOUR CODE                              #\n",
    "    #############################################################################\n",
    "\n",
    "    return loss, dW"
   ]
  },
  {
   "cell_type": "markdown",
   "metadata": {},
   "source": [
    "# Check: Performance Comparison [0pt]\n",
    "\n",
    "Execute the cell below to run a performance comparison between the naive implementation using loops\n",
    "and the optimized version using vectorized instructions.\n",
    "The two versions should compute the same results, but the vectorized version should be much faster."
   ]
  },
  {
   "cell_type": "code",
   "execution_count": 10,
   "metadata": {},
   "outputs": [
    {
     "name": "stdout",
     "output_type": "stream",
     "text": [
      "Naive loss: 9.234943e+00 computed in -0.089722s\n",
      "Vectorized loss: 9.234943e+00 computed in -0.011968s\n",
      "Loss difference: 0.000000\n",
      "Gradient difference: 0.000000\n",
      "Runtime abs. difference: 0.077754 seconds\n",
      "Runtime rel. improvement: 0.866608 percent\n"
     ]
    }
   ],
   "source": [
    "tic = time.time()\n",
    "loss_naive, grad_naive = svm_loss_naive(W, X_dev, y_dev, 0.000005)\n",
    "toc = time.time()\n",
    "diff = tic - toc\n",
    "print('Naive loss: %e computed in %fs' % (loss_naive, diff))\n",
    "\n",
    "tic = time.time()\n",
    "loss_vectorized, grad_vectorized = svm_loss_vectorized(W, X_dev, y_dev, 0.000005)\n",
    "toc = time.time()\n",
    "diff_vec = tic - toc\n",
    "print('Vectorized loss: %e computed in %fs' % (loss_vectorized, diff_vec))\n",
    "\n",
    "# As we did for the SVM, we use the Frobenius norm to compare the two versions\n",
    "# of the gradient.\n",
    "grad_difference = np.linalg.norm(grad_naive - grad_vectorized, ord='fro')\n",
    "print('Loss difference: %f' % np.abs(loss_naive - loss_vectorized))\n",
    "print('Gradient difference: %f' % grad_difference)\n",
    "print('Runtime abs. difference: %f seconds' % (diff_vec - diff))\n",
    "print('Runtime rel. improvement: %f percent' % (1 - (diff_vec / diff)))"
   ]
  },
  {
   "cell_type": "markdown",
   "metadata": {},
   "source": [
    "# Stochastic Gradient Descent [0pt]\n",
    "\n",
    "You already implemented this in the last exercise. Please run the cell below to define this function in the current namespace."
   ]
  },
  {
   "cell_type": "code",
   "execution_count": 13,
   "metadata": {},
   "outputs": [],
   "source": [
    "# train multi-class svm by SGD, implemented in last assignment\n",
    "def train_SGD(X, y, learning_rate=1e-3, reg=1e-5, num_iters=100,\n",
    "            batch_size=200, verbose=False):\n",
    "    \"\"\"\n",
    "    Train this linear classifier using stochastic gradient descent.\n",
    "\n",
    "    Inputs:\n",
    "    - X: A numpy array of shape (N, D) containing training data; there are N\n",
    "      training samples each of dimension D.\n",
    "    - y: A numpy array of shape (N,) containing training labels; y[i] = c\n",
    "      means that X[i] has label 0 <= c < C for C classes.\n",
    "    - learning_rate: (float) learning rate for optimization.\n",
    "    - reg: (float) regularization strength.\n",
    "    - num_iters: (integer) number of steps to take when optimizing\n",
    "    - batch_size: (integer) number of training examples to use at each step.\n",
    "    - verbose: (boolean) If true, print progress during optimization.\n",
    "\n",
    "    Outputs:\n",
    "    W: A numpy array of shape (D, C) containing weights\n",
    "    loss_history: A list containing the value of the loss function at each training iteration.\n",
    "    \"\"\"\n",
    "    num_train, dim = X.shape\n",
    "    num_classes = np.max(y) + 1 # assume y takes values 0...K-1 where K is number of classes\n",
    "   \n",
    "    # Generate a random softmax weight matrix\n",
    "    W = 0.001 * np.random.randn(dim, num_classes)\n",
    "\n",
    "    # Run stochastic gradient descent to optimize W\n",
    "    loss_history = []\n",
    "    for it in range(num_iters):\n",
    "        X_batch = None\n",
    "        y_batch = None\n",
    "        p = np.random.choice(num_train, batch_size)\n",
    "        X_batch = X[p,:]\n",
    "        y_batch = y[p]\n",
    "  \n",
    "\n",
    "        # evaluate loss and gradient\n",
    "        loss, grad = svm_loss_vectorized(W,X_batch, y_batch, reg)\n",
    "        loss_history.append(loss)\n",
    " \n",
    "        W -= learning_rate*grad\n",
    "\n",
    "        if verbose and it % 100 == 0:\n",
    "            print('iteration %d / %d: loss %f' % (it, num_iters, loss))\n",
    "\n",
    "    return W, loss_history"
   ]
  },
  {
   "cell_type": "markdown",
   "metadata": {},
   "source": [
    "# SVM Training [0pt]\n",
    "\n",
    "Run the next cell to train a SVM classifier using stochastic gradient descent."
   ]
  },
  {
   "cell_type": "code",
   "execution_count": 14,
   "metadata": {},
   "outputs": [
    {
     "name": "stdout",
     "output_type": "stream",
     "text": [
      "iteration 0 / 1500: loss 793.408175\n",
      "iteration 100 / 1500: loss 289.407001\n",
      "iteration 200 / 1500: loss 108.223558\n",
      "iteration 300 / 1500: loss 42.311947\n",
      "iteration 400 / 1500: loss 18.879998\n",
      "iteration 500 / 1500: loss 10.443825\n",
      "iteration 600 / 1500: loss 7.203802\n",
      "iteration 700 / 1500: loss 5.845857\n",
      "iteration 800 / 1500: loss 5.623011\n",
      "iteration 900 / 1500: loss 4.998946\n",
      "iteration 1000 / 1500: loss 5.001992\n",
      "iteration 1100 / 1500: loss 5.318446\n",
      "iteration 1200 / 1500: loss 4.893186\n",
      "iteration 1300 / 1500: loss 5.286149\n",
      "iteration 1400 / 1500: loss 5.128230\n",
      "This took 3.690551s\n"
     ]
    }
   ],
   "source": [
    "tic = time.time()\n",
    "W, loss_hist = train_SGD(X_train, y_train, learning_rate=1e-7, reg=2.5e4,\n",
    "                      num_iters=1500, verbose=True)\n",
    "toc = time.time()\n",
    "print('This took %fs' % (toc - tic))"
   ]
  },
  {
   "cell_type": "markdown",
   "metadata": {},
   "source": [
    "# Check: Prediction [0pt]\n",
    "\n",
    "The next two cells  defines the predict function. "
   ]
  },
  {
   "cell_type": "code",
   "execution_count": 15,
   "metadata": {},
   "outputs": [],
   "source": [
    "def predict(W, X):\n",
    "    \"\"\"\n",
    "    Use the trained weights of this linear classifier to predict labels for\n",
    "    data points.\n",
    "\n",
    "    Inputs:\n",
    "    - W: A numpy array of shape (D, C) containing weights\n",
    "    - X: A numpy array of shape (N, D) containing training data; there are N\n",
    "      training samples each of dimension D.\n",
    "\n",
    "    Returns:\n",
    "    - y_pred: Predicted labels for the data in X. y_pred is a 1-dimensional\n",
    "      array of length N, and each element is an integer giving the predicted\n",
    "      class.\n",
    "    \"\"\"\n",
    "    y_pred = np.zeros(X.shape[0])\n",
    "    y_pred = np.argmax(np.dot(X,W),axis=1)\n",
    "    return y_pred"
   ]
  },
  {
   "cell_type": "code",
   "execution_count": 16,
   "metadata": {},
   "outputs": [
    {
     "name": "stdout",
     "output_type": "stream",
     "text": [
      "training accuracy: 0.372510\n",
      "validation accuracy: 0.380000\n"
     ]
    }
   ],
   "source": [
    "# Write the predict function and evaluate the performance on both the\n",
    "# training and validation set\n",
    "y_train_pred = predict(W,X_train)\n",
    "print('training accuracy: %f' % np.mean(y_train == y_train_pred))\n",
    "y_val_pred = predict(W,X_val)\n",
    "print('validation accuracy: %f' % np.mean(y_val == y_val_pred))"
   ]
  },
  {
   "cell_type": "markdown",
   "metadata": {},
   "source": [
    "# Task 3: Hyperparameter Tuning [5pt]\n",
    "\n",
    "Follow the instructions in the comments and run a hyperparameter tuning adapted to a SVM."
   ]
  },
  {
   "cell_type": "code",
   "execution_count": 17,
   "metadata": {},
   "outputs": [
    {
     "name": "stdout",
     "output_type": "stream",
     "text": [
      "iteration 0 / 1500: loss 794.487550\n",
      "iteration 100 / 1500: loss 289.409179\n",
      "iteration 200 / 1500: loss 109.626095\n",
      "iteration 300 / 1500: loss 43.069856\n",
      "iteration 400 / 1500: loss 19.130393\n",
      "iteration 500 / 1500: loss 10.370561\n",
      "iteration 600 / 1500: loss 7.217847\n",
      "iteration 700 / 1500: loss 5.888128\n",
      "iteration 800 / 1500: loss 5.517014\n",
      "iteration 900 / 1500: loss 5.468424\n",
      "iteration 1000 / 1500: loss 5.267671\n",
      "iteration 1100 / 1500: loss 5.414655\n",
      "iteration 1200 / 1500: loss 5.796165\n",
      "iteration 1300 / 1500: loss 5.507645\n",
      "iteration 1400 / 1500: loss 5.455994\n",
      "iteration 0 / 1500: loss 1547.523745\n",
      "iteration 100 / 1500: loss 209.142886\n",
      "iteration 200 / 1500: loss 32.339435\n",
      "iteration 300 / 1500: loss 9.928616\n",
      "iteration 400 / 1500: loss 6.100158\n",
      "iteration 500 / 1500: loss 6.491223\n",
      "iteration 600 / 1500: loss 5.159212\n",
      "iteration 700 / 1500: loss 5.841443\n",
      "iteration 800 / 1500: loss 5.522359\n",
      "iteration 900 / 1500: loss 5.828422\n",
      "iteration 1000 / 1500: loss 4.899274\n",
      "iteration 1100 / 1500: loss 5.618420\n",
      "iteration 1200 / 1500: loss 5.319599\n",
      "iteration 1300 / 1500: loss 5.687749\n",
      "iteration 1400 / 1500: loss 5.818480\n",
      "iteration 0 / 1500: loss 783.196712\n",
      "iteration 100 / 1500: loss 474.917179\n",
      "iteration 200 / 1500: loss 286.657873\n",
      "iteration 300 / 1500: loss 175.728787\n",
      "iteration 400 / 1500: loss 107.850251\n",
      "iteration 500 / 1500: loss 66.976449\n",
      "iteration 600 / 1500: loss 42.709714\n",
      "iteration 700 / 1500: loss 28.114417\n",
      "iteration 800 / 1500: loss 19.102773\n",
      "iteration 900 / 1500: loss 12.837755\n",
      "iteration 1000 / 1500: loss 10.251196\n",
      "iteration 1100 / 1500: loss 8.171266\n",
      "iteration 1200 / 1500: loss 7.209537\n",
      "iteration 1300 / 1500: loss 5.881140\n",
      "iteration 1400 / 1500: loss 6.148069\n",
      "iteration 0 / 1500: loss 1567.693125\n",
      "iteration 100 / 1500: loss 574.116542\n",
      "iteration 200 / 1500: loss 213.003395\n",
      "iteration 300 / 1500: loss 81.316312\n",
      "iteration 400 / 1500: loss 33.407823\n",
      "iteration 500 / 1500: loss 15.796880\n",
      "iteration 600 / 1500: loss 9.522547\n",
      "iteration 700 / 1500: loss 6.855642\n",
      "iteration 800 / 1500: loss 6.751906\n",
      "iteration 900 / 1500: loss 5.576587\n",
      "iteration 1000 / 1500: loss 5.779254\n",
      "iteration 1100 / 1500: loss 5.861020\n",
      "iteration 1200 / 1500: loss 5.376370\n",
      "iteration 1300 / 1500: loss 5.725451\n",
      "iteration 1400 / 1500: loss 5.193843\n",
      "iteration 0 / 1500: loss 781.870961\n",
      "iteration 100 / 1500: loss 704.952187\n",
      "iteration 200 / 1500: loss 634.468146\n",
      "iteration 300 / 1500: loss 575.707130\n",
      "iteration 400 / 1500: loss 520.727181\n",
      "iteration 500 / 1500: loss 469.663151\n",
      "iteration 600 / 1500: loss 425.827952\n",
      "iteration 700 / 1500: loss 384.946419\n",
      "iteration 800 / 1500: loss 347.775441\n",
      "iteration 900 / 1500: loss 316.037426\n",
      "iteration 1000 / 1500: loss 285.557157\n",
      "iteration 1100 / 1500: loss 258.222660\n",
      "iteration 1200 / 1500: loss 234.527688\n",
      "iteration 1300 / 1500: loss 212.019610\n",
      "iteration 1400 / 1500: loss 192.666053\n",
      "iteration 0 / 1500: loss 1520.592970\n",
      "iteration 100 / 1500: loss 1242.192721\n",
      "iteration 200 / 1500: loss 1015.103570\n",
      "iteration 300 / 1500: loss 832.046878\n",
      "iteration 400 / 1500: loss 680.652796\n",
      "iteration 500 / 1500: loss 558.223597\n",
      "iteration 600 / 1500: loss 456.962920\n",
      "iteration 700 / 1500: loss 375.325056\n",
      "iteration 800 / 1500: loss 307.678771\n",
      "iteration 900 / 1500: loss 253.187221\n",
      "iteration 1000 / 1500: loss 207.245515\n",
      "iteration 1100 / 1500: loss 170.659728\n",
      "iteration 1200 / 1500: loss 140.184400\n",
      "iteration 1300 / 1500: loss 116.363020\n",
      "iteration 1400 / 1500: loss 96.044010\n",
      "lr 1.000000e-08 reg 2.500000e+04 train accuracy: 0.255143 val accuracy: 0.240000\n",
      "lr 1.000000e-08 reg 5.000000e+04 train accuracy: 0.301265 val accuracy: 0.313000\n",
      "lr 5.000000e-08 reg 2.500000e+04 train accuracy: 0.368429 val accuracy: 0.381000\n",
      "lr 5.000000e-08 reg 5.000000e+04 train accuracy: 0.364020 val accuracy: 0.378000\n",
      "lr 1.000000e-07 reg 2.500000e+04 train accuracy: 0.376163 val accuracy: 0.387000\n",
      "lr 1.000000e-07 reg 5.000000e+04 train accuracy: 0.352878 val accuracy: 0.360000\n",
      "best validation accuracy achieved during cross-validation: 0.387000\n"
     ]
    }
   ],
   "source": [
    "# Use the validation set to tune hyperparameters (regularization strength and\n",
    "# learning rate). You should experiment with different ranges for the learning\n",
    "# rates and regularization strengths; if you are careful you should be able to\n",
    "# get a classification accuracy of about 0.4 on the validation set.\n",
    "learning_rates = [1e-7, 5e-8, 1e-8]\n",
    "regularization_strengths = [2.5e4, 5e4]\n",
    "\n",
    "# results is dictionary mapping tuples of the form\n",
    "# (learning_rate, regularization_strength) to tuples of the form\n",
    "# (training_accuracy, validation_accuracy). The accuracy is simply the fraction\n",
    "# of data points that are correctly classified.\n",
    "results = {}\n",
    "best_val = -1   # The highest validation accuracy that we have seen so far.\n",
    "best_W = None # The LinearSVM object that achieved the highest validation rate.\n",
    "\n",
    "################################################################################\n",
    "# TODO:                                                                        #\n",
    "# Write code that chooses the best hyperparameters by tuning on the validation #\n",
    "# set. For each combination of hyperparameters, train a linear SVM on the      #\n",
    "# training set, compute its accuracy on the training and validation sets, and  #\n",
    "# store these numbers in the results dictionary. In addition, store the best   #\n",
    "# validation accuracy in best_val and the LinearSVM object that achieves this  #\n",
    "# accuracy in best_svm.                                                        #\n",
    "#                                                                              #\n",
    "# Hint: You should use a small value for num_iters as you develop your         #\n",
    "# validation code so that the SVMs don't take much time to train; once you are #\n",
    "# confident that your validation code works, you should rerun the validation   #\n",
    "# code with a larger value for num_iters.                                      #\n",
    "################################################################################\n",
    "\n",
    "num_test = X_test.shape[0]\n",
    "for lr in learning_rates:\n",
    "    for reg in regularization_strengths:\n",
    "        W, loss_hist = train_SGD(X_train, y_train, lr, reg, num_iters=1500,verbose=True)\n",
    "        y_train_pred = predict(W, X_train)\n",
    "        train_acc = np.mean(y_train == y_train_pred)\n",
    "        y_val_pred = predict(W, X_val)\n",
    "        val_acc = np.mean(y_val == y_val_pred)\n",
    "        results[(lr, reg)] = train_acc, val_acc\n",
    "        if best_val < val_acc:\n",
    "            best_val = val_acc\n",
    "            best_W = W\n",
    "################################################################################\n",
    "#                              END OF YOUR CODE                                #\n",
    "################################################################################\n",
    "    \n",
    "# Print out results.\n",
    "for lr, reg in sorted(results):\n",
    "    train_accuracy, val_accuracy = results[(lr, reg)]\n",
    "    print('lr %e reg %e train accuracy: %f val accuracy: %f' % (\n",
    "                lr, reg, train_accuracy, val_accuracy))\n",
    "    \n",
    "print('best validation accuracy achieved during cross-validation: %f' % best_val)"
   ]
  },
  {
   "cell_type": "markdown",
   "metadata": {},
   "source": [
    "# Check: Test Accuracy and Weight Visualization [0pt]\n",
    "\n",
    "Run the next cell to try your SVM implementation on unseen test data. Accuracy should be around 0.35.\n",
    "The last cell displays the (rescaled) weights your SVM has learned for each class."
   ]
  },
  {
   "cell_type": "code",
   "execution_count": 18,
   "metadata": {},
   "outputs": [
    {
     "name": "stdout",
     "output_type": "stream",
     "text": [
      "linear SVM on raw pixels final test set accuracy: 0.367000\n"
     ]
    }
   ],
   "source": [
    "# Evaluate the best svm on test set\n",
    "y_test_pred = predict(best_W,X_test)\n",
    "test_accuracy = np.mean(y_test == y_test_pred)\n",
    "print('linear SVM on raw pixels final test set accuracy: %f' % test_accuracy)"
   ]
  },
  {
   "cell_type": "code",
   "execution_count": 19,
   "metadata": {},
   "outputs": [
    {
     "data": {
      "image/png": "[encoded data removed]",
      "text/plain": [
       "<Figure size 432x288 with 10 Axes>"
      ]
     },
     "metadata": {},
     "output_type": "display_data"
    }
   ],
   "source": [
    "# Visualize the learned weights for each class.\n",
    "# Depending on your choice of learning rate and regularization strength, these may\n",
    "# or may not be nice to look at.\n",
    "w = best_W[:-1,:] # strip out the bias\n",
    "w = w.reshape(32, 32, 3, 10)\n",
    "w_min, w_max = np.min(w), np.max(w)\n",
    "classes = ['plane', 'car', 'bird', 'cat', 'deer', 'dog', 'frog', 'horse', 'ship', 'truck']\n",
    "for i in range(10):\n",
    "    plt.subplot(2, 5, i + 1)\n",
    "      \n",
    "    # Rescale the weights to be between 0 and 255\n",
    "    wimg = 255.0 * (w[:, :, :, i].squeeze() - w_min) / (w_max - w_min)\n",
    "    plt.imshow(wimg.astype('uint8'))\n",
    "    plt.axis('off')\n",
    "    plt.title(classes[i])"
   ]
  }
 ],
 "metadata": {
  "kernelspec": {
   "display_name": "Python 3",
   "language": "python",
   "name": "python3"
  },
  "language_info": {
   "codemirror_mode": {
    "name": "ipython",
    "version": 3
   },
   "file_extension": ".py",
   "mimetype": "text/x-python",
   "name": "python",
   "nbconvert_exporter": "python",
   "pygments_lexer": "ipython3",
   "version": "3.6.5"
  }
 },
 "nbformat": 4,
 "nbformat_minor": 2
}
