{
 "cells": [
  {
   "cell_type": "markdown",
   "metadata": {},
   "source": [
    "# Deep Learning Programming Exercise 03: Implementing a Neural Network\n",
    "\n",
    "In this exercise we will develop a neural network with fully-connected layers to perform image classification, and test it out on the CIFAR-10 dataset."
   ]
  },
  {
   "cell_type": "markdown",
   "metadata": {},
   "source": [
    "# Load Required Libraries [0pt]"
   ]
  },
  {
   "cell_type": "code",
   "execution_count": 1,
   "metadata": {},
   "outputs": [],
   "source": [
    "import numpy as np\n",
    "import matplotlib.pyplot as plt\n",
    "\n",
    "from neural_net_solutions import ThreeLayerNet\n",
    "from __future__ import print_function\n",
    "\n",
    "%matplotlib inline\n",
    "plt.rcParams['figure.figsize'] = (10.0, 8.0) # set default size of plots\n",
    "plt.rcParams['image.interpolation'] = 'nearest'\n",
    "plt.rcParams['image.cmap'] = 'gray'\n",
    "# for auto-reloading external modules\n",
    "# see http://stackoverflow.com/questions/1907993/autoreload-of-modules-in-ipython\n",
    "%load_ext autoreload\n",
    "%autoreload 2\n",
    "\n",
    "def rel_error(x, y):\n",
    "    \"\"\" returns relative error \"\"\"\n",
    "    return np.max(np.abs(x - y) / (np.maximum(1e-8, np.abs(x) + np.abs(y))))"
   ]
  },
  {
   "cell_type": "markdown",
   "metadata": {},
   "source": [
    "# Initialization [0pt]\n",
    "\n",
    "We will use the class `ThreeLayerNet` in the file `neural_net.py` to represent instances of our network. The network parameters are stored in the instance variable `self.params` where keys are string parameter names and values are numpy arrays. Below, we initialize toy data and a toy model that we will use to develop your implementation."
   ]
  },
  {
   "cell_type": "code",
   "execution_count": 2,
   "metadata": {},
   "outputs": [],
   "source": [
    "# Create a small net and some toy data to check your implementations.\n",
    "# Note that we set the random seed for repeatable experiments.\n",
    "\n",
    "input_size = 4\n",
    "hidden_size = 10\n",
    "num_classes = 3\n",
    "num_inputs = 5\n",
    "\n",
    "def init_toy_model():\n",
    "    np.random.seed(0)\n",
    "    return ThreeLayerNet(input_size, hidden_size, num_classes, std=1e-1)\n",
    "\n",
    "def init_toy_data():\n",
    "    np.random.seed(1)\n",
    "    X = 10 * np.random.randn(num_inputs, input_size)\n",
    "    y = np.array([0, 1, 2, 2, 1])\n",
    "    return X, y\n",
    "\n",
    "net = init_toy_model()\n",
    "X, y = init_toy_data()"
   ]
  },
  {
   "cell_type": "markdown",
   "metadata": {},
   "source": [
    "# Task 1: Forward pass - scores [2pt]\n",
    "Open the file `neural_net.py` and look at the method `ThreeLayerNet.loss`. This function is very similar to the loss functions you have written for the SVM and Softmax exercises: It takes the data and weights and computes the class scores, the loss, and the gradients on the parameters. \n",
    "\n",
    "Implement the first part of the forward pass which uses the weights and biases to compute the scores for all inputs."
   ]
  },
  {
   "cell_type": "code",
   "execution_count": 3,
   "metadata": {},
   "outputs": [
    {
     "name": "stdout",
     "output_type": "stream",
     "text": [
      "Your scores:\n",
      "[[-0.81233741 -1.27654624 -0.70335995]\n",
      " [-0.17129677 -1.18803311 -0.47310444]\n",
      " [-0.51590475 -1.01354314 -0.8504215 ]\n",
      " [-0.15419291 -0.48629638 -0.52901952]\n",
      " [-0.00618733 -0.12435261 -0.15226949]]\n",
      "\n",
      "correct scores:\n",
      "[[-0.81233741 -1.27654624 -0.70335995]\n",
      " [-0.17129677 -1.18803311 -0.47310444]\n",
      " [-0.51590475 -1.01354314 -0.8504215 ]\n",
      " [-0.15419291 -0.48629638 -0.52901952]\n",
      " [-0.00618733 -0.12435261 -0.15226949]]\n",
      "\n",
      "Difference between your scores and correct scores:\n",
      "3.6802720745909845e-08\n"
     ]
    }
   ],
   "source": [
    "scores = net.loss(X)\n",
    "print('Your scores:')\n",
    "print(scores)\n",
    "print()\n",
    "print('correct scores:')\n",
    "correct_scores = np.asarray([\n",
    "  [-0.81233741, -1.27654624, -0.70335995],\n",
    "  [-0.17129677, -1.18803311, -0.47310444],\n",
    "  [-0.51590475, -1.01354314, -0.8504215 ],\n",
    "  [-0.15419291, -0.48629638, -0.52901952],\n",
    "  [-0.00618733, -0.12435261, -0.15226949]])\n",
    "print(correct_scores)\n",
    "print()\n",
    "\n",
    "# The difference should be very small. We get < 1e-7\n",
    "print('Difference between your scores and correct scores:')\n",
    "print(np.sum(np.abs(scores - correct_scores)))"
   ]
  },
  {
   "cell_type": "markdown",
   "metadata": {},
   "source": [
    "# Task 2: Forward pass - loss [3pt]\n",
    "\n",
    "In the same function, implement the second part that computes the data and regularizaion loss."
   ]
  },
  {
   "cell_type": "code",
   "execution_count": 4,
   "metadata": {},
   "outputs": [
    {
     "name": "stdout",
     "output_type": "stream",
     "text": [
      "Difference between your loss and correct loss:\n",
      "1.7985612998927536e-13\n"
     ]
    }
   ],
   "source": [
    "loss, _ = net.loss(X, y, reg=0.05)\n",
    "correct_loss = 1.30378789133\n",
    "\n",
    "# should be very small, we get < 1e-12\n",
    "print('Difference between your loss and correct loss:')\n",
    "print(np.sum(np.abs(loss - correct_loss)))"
   ]
  },
  {
   "cell_type": "markdown",
   "metadata": {},
   "source": [
    "# Task 3: Backward pass [5pt]\n",
    "\n",
    "Implement the rest of the function. This will compute the gradient of the loss with respect to the variables `W1`, `b1`, `W2`, and `b2`. Now that you (hopefully!) have a correctly implemented forward pass, you can debug your backward pass using a numeric gradient check:"
   ]
  },
  {
   "cell_type": "code",
   "execution_count": 5,
   "metadata": {},
   "outputs": [
    {
     "name": "stdout",
     "output_type": "stream",
     "text": [
      "W1 max relative error: 3.561318e-09\n",
      "b1 max relative error: 2.738420e-09\n",
      "W2 max relative error: 3.440708e-09\n",
      "b2 max relative error: 4.447625e-11\n"
     ]
    }
   ],
   "source": [
    "from utils.gradient_check import eval_numerical_gradient\n",
    "\n",
    "# Use numeric gradient checking to check your implementation of the backward pass.\n",
    "# If your implementation is correct, the difference between the numeric and\n",
    "# analytic gradients should be less than 1e-8 for each of W1, W2, b1, and b2.\n",
    "\n",
    "loss, grads = net.loss(X, y, reg=0.05)\n",
    "\n",
    "# these should all be less than 1e-8 or so\n",
    "for param_name in grads:\n",
    "    f = lambda W: net.loss(X, y, reg=0.05)[0]\n",
    "    param_grad_num = eval_numerical_gradient(f, net.params[param_name], verbose=False)\n",
    "    print('%s max relative error: %e' % (param_name, rel_error(param_grad_num, grads[param_name])))"
   ]
  },
  {
   "cell_type": "markdown",
   "metadata": {},
   "source": [
    "# Task 4 :Train the network [5pt]\n",
    "\n",
    "To train the network we will use stochastic gradient descent (SGD), similar to the SVM and Softmax classifiers. Look at the function `ThreeLayerNet.train` and fill in the missing sections to implement the training procedure. This should be very similar to the training procedure you used for the SVM and Softmax classifiers. You will also have to implement `ThreeLayerNet.predict`, as the training process periodically performs prediction to keep track of accuracy over time while the network trains.\n",
    "\n",
    "Once you have implemented the method, run the code below to train a three-layer network on toy data. You should achieve a training loss less than 0.2."
   ]
  },
  {
   "cell_type": "code",
   "execution_count": 6,
   "metadata": {},
   "outputs": [
    {
     "name": "stdout",
     "output_type": "stream",
     "text": [
      "Final training loss:  0.017149607938732093\n"
     ]
    },
    {
     "data": {
      "image/png": "[encoded data removed]",
      "text/plain": [
       "<Figure size 432x288 with 1 Axes>"
      ]
     },
     "metadata": {},
     "output_type": "display_data"
    }
   ],
   "source": [
    "net = init_toy_model()\n",
    "stats = net.train(X, y, X, y,\n",
    "            learning_rate=1e-1, reg=5e-6,\n",
    "            num_iters=100, verbose=False)\n",
    "\n",
    "print('Final training loss: ', stats['loss_history'][-1])\n",
    "\n",
    "# plot the loss history\n",
    "plt.plot(stats['loss_history'])\n",
    "plt.xlabel('iteration')\n",
    "plt.ylabel('training loss')\n",
    "plt.title('Training Loss history')\n",
    "plt.show()"
   ]
  },
  {
   "cell_type": "markdown",
   "metadata": {},
   "source": [
    "# Load the data\n",
    "Now that you have implemented a three-layer network that passes gradient checks and works on toy data, it's time to load up our favorite CIFAR-10 data so we can use it to train a classifier on a real dataset."
   ]
  },
  {
   "cell_type": "code",
   "execution_count": 7,
   "metadata": {},
   "outputs": [
    {
     "name": "stdout",
     "output_type": "stream",
     "text": [
      "Train data shape:  (49000, 3072)\n",
      "Train labels shape:  (49000,)\n",
      "Validation data shape:  (1000, 3072)\n",
      "Validation labels shape:  (1000,)\n",
      "Test data shape:  (1000, 3072)\n",
      "Test labels shape:  (1000,)\n"
     ]
    }
   ],
   "source": [
    "from utils.data_utils import load_CIFAR10\n",
    "\n",
    "def get_CIFAR10_data(num_training=49000, num_validation=1000, num_test=1000):\n",
    "    \"\"\"\n",
    "    Load the CIFAR-10 dataset from disk and perform preprocessing to prepare\n",
    "    it for the three-layer neural net classifier. These are the same steps as\n",
    "    we used for the SVM, but condensed to a single function.  \n",
    "    \"\"\"\n",
    "    # Load the raw CIFAR-10 data\n",
    "    cifar10_dir = '../../data/cifar/'\n",
    "    X_train, y_train, X_test, y_test = load_CIFAR10(cifar10_dir)\n",
    "\n",
    "    # Subsample the data\n",
    "    mask = list(range(num_training, num_training + num_validation))\n",
    "    X_val = X_train[mask]\n",
    "    y_val = y_train[mask]\n",
    "    mask = list(range(num_training))\n",
    "    X_train = X_train[mask]\n",
    "    y_train = y_train[mask]\n",
    "    mask = list(range(num_test))\n",
    "    X_test = X_test[mask]\n",
    "    y_test = y_test[mask]\n",
    "\n",
    "    # Normalize the data: subtract the mean image\n",
    "    mean_image = np.mean(X_train, axis=0)\n",
    "    X_train -= mean_image\n",
    "    X_val -= mean_image\n",
    "    X_test -= mean_image\n",
    "\n",
    "    # Reshape data to rows\n",
    "    X_train = X_train.reshape(num_training, -1)\n",
    "    X_val = X_val.reshape(num_validation, -1)\n",
    "    X_test = X_test.reshape(num_test, -1)\n",
    "\n",
    "    return X_train, y_train, X_val, y_val, X_test, y_test\n",
    "\n",
    "\n",
    "# Invoke the above function to get our data.\n",
    "X_train, y_train, X_val, y_val, X_test, y_test = get_CIFAR10_data()\n",
    "print('Train data shape: ', X_train.shape)\n",
    "print('Train labels shape: ', y_train.shape)\n",
    "print('Validation data shape: ', X_val.shape)\n",
    "print('Validation labels shape: ', y_val.shape)\n",
    "print('Test data shape: ', X_test.shape)\n",
    "print('Test labels shape: ', y_test.shape)"
   ]
  },
  {
   "cell_type": "markdown",
   "metadata": {},
   "source": [
    "# Train your network [0pt]\n",
    "\n",
    "To train our network we will use SGD with momentum. In addition, we will adjust the learning rate with an exponential learning rate schedule as optimization proceeds; after each epoch, we will reduce the learning rate by multiplying it by a decay rate."
   ]
  },
  {
   "cell_type": "code",
   "execution_count": 8,
   "metadata": {},
   "outputs": [
    {
     "name": "stdout",
     "output_type": "stream",
     "text": [
      "iteration 0 / 1000: loss 2.302954\n",
      "iteration 100 / 1000: loss 2.302550\n",
      "iteration 200 / 1000: loss 2.297648\n",
      "iteration 300 / 1000: loss 2.259602\n",
      "iteration 400 / 1000: loss 2.204170\n",
      "iteration 500 / 1000: loss 2.118565\n",
      "iteration 600 / 1000: loss 2.051535\n",
      "iteration 700 / 1000: loss 1.988466\n",
      "iteration 800 / 1000: loss 2.006591\n",
      "iteration 900 / 1000: loss 1.951473\n",
      "Validation accuracy:  0.287\n"
     ]
    }
   ],
   "source": [
    "input_size = 32 * 32 * 3\n",
    "hidden_size = 50\n",
    "num_classes = 10\n",
    "net = ThreeLayerNet(input_size, hidden_size, num_classes)\n",
    "\n",
    "# Train the network\n",
    "stats = net.train(X_train, y_train, X_val, y_val,\n",
    "            num_iters=1000, batch_size=200,\n",
    "            learning_rate=1e-4, learning_rate_decay=0.95,\n",
    "            reg=0.25, verbose=True)\n",
    "\n",
    "# Predict on the validation set\n",
    "val_acc = (net.predict(X_val) == y_val).mean()\n",
    "print('Validation accuracy: ', val_acc)"
   ]
  },
  {
   "cell_type": "markdown",
   "metadata": {},
   "source": [
    "# Debug the training: loss plots [0pt]\n",
    "\n",
    "With the default parameters we provided above, you should get a validation accuracy of about 0.29 on the validation set. This isn't very good.\n",
    "\n",
    "One strategy for getting insight into what's wrong is to plot the loss function and the accuracies on the training and validation sets during optimization."
   ]
  },
  {
   "cell_type": "code",
   "execution_count": 9,
   "metadata": {},
   "outputs": [
    {
     "data": {
      "image/png": "[encoded data removed]",
      "text/plain": [
       "<Figure size 432x288 with 2 Axes>"
      ]
     },
     "metadata": {},
     "output_type": "display_data"
    }
   ],
   "source": [
    "# Plot the loss function and train / validation accuracies\n",
    "plt.subplot(2, 1, 1)\n",
    "plt.plot(stats['loss_history'])\n",
    "plt.title('Loss history')\n",
    "plt.xlabel('Iteration')\n",
    "plt.ylabel('Loss')\n",
    "\n",
    "plt.subplot(2, 1, 2)\n",
    "plt.plot(stats['train_acc_history'], label='train')\n",
    "plt.plot(stats['val_acc_history'], label='val')\n",
    "plt.title('Classification accuracy history')\n",
    "plt.xlabel('Epoch')\n",
    "plt.ylabel('Clasification accuracy')\n",
    "plt.show()"
   ]
  },
  {
   "cell_type": "markdown",
   "metadata": {},
   "source": [
    "# Hyperparameter Tuning [0pt]\n",
    "\n",
    "**What's wrong?**. Looking at the visualizations above, we see that the loss is decreasing more or less linearly, which seems to suggest that the learning rate may be too low. Moreover, there is no gap between the training and validation accuracy, suggesting that the model we used has low capacity, and that we should increase its size. On the other hand, with a very large model we would expect to see more overfitting, which would manifest itself as a very large gap between the training and validation accuracy.\n",
    "\n",
    "**Tuning**. Tuning the hyperparameters and developing intuition for how they affect the final performance is a large part of using Neural Networks, so we want you to get a lot of practice. Below, you should experiment with different values of the various hyperparameters, including hidden layer size, learning rate, numer of training epochs, and regularization strength. You might also consider tuning the learning rate decay, but you should be able to get good performance using the default value.\n",
    "\n",
    "**Approximate results**. You should be aim to achieve a classification accuracy of greater than 48% on the validation set. Our best network gets over 52% on the validation set."
   ]
  },
  {
   "cell_type": "code",
   "execution_count": 10,
   "metadata": {},
   "outputs": [
    {
     "name": "stdout",
     "output_type": "stream",
     "text": [
      "lr 2.000000e-03 reg 9.000000e-01 lrd 9.900000e-01 hs 2.000000e+02 train accuracy: 0.447122 val accuracy: 0.453000\n",
      "lr 2.000000e-03 reg 9.000000e-01 lrd 9.500000e-01 hs 2.000000e+02 train accuracy: 0.472980 val accuracy: 0.456000\n",
      "lr 2.000000e-03 reg 9.000000e-01 lrd 8.500000e-01 hs 2.000000e+02 train accuracy: 0.505673 val accuracy: 0.475000\n",
      "lr 2.000000e-03 reg 9.000000e-01 lrd 9.900000e-01 hs 3.000000e+02 train accuracy: 0.426898 val accuracy: 0.414000\n",
      "lr 2.000000e-03 reg 9.000000e-01 lrd 9.500000e-01 hs 3.000000e+02 train accuracy: 0.495837 val accuracy: 0.456000\n",
      "lr 2.000000e-03 reg 9.000000e-01 lrd 8.500000e-01 hs 3.000000e+02 train accuracy: 0.505204 val accuracy: 0.483000\n",
      "lr 2.000000e-03 reg 9.000000e-01 lrd 9.900000e-01 hs 4.000000e+02 train accuracy: 0.461020 val accuracy: 0.462000\n",
      "lr 2.000000e-03 reg 9.000000e-01 lrd 9.500000e-01 hs 4.000000e+02 train accuracy: 0.477061 val accuracy: 0.467000\n",
      "lr 2.000000e-03 reg 9.000000e-01 lrd 8.500000e-01 hs 4.000000e+02 train accuracy: 0.506265 val accuracy: 0.473000\n",
      "lr 2.000000e-03 reg 7.000000e-01 lrd 9.900000e-01 hs 2.000000e+02 train accuracy: 0.426327 val accuracy: 0.435000\n",
      "lr 2.000000e-03 reg 7.000000e-01 lrd 9.500000e-01 hs 2.000000e+02 train accuracy: 0.490878 val accuracy: 0.477000\n",
      "lr 2.000000e-03 reg 7.000000e-01 lrd 8.500000e-01 hs 2.000000e+02 train accuracy: 0.520592 val accuracy: 0.494000\n",
      "lr 2.000000e-03 reg 7.000000e-01 lrd 9.900000e-01 hs 3.000000e+02 train accuracy: 0.469449 val accuracy: 0.452000\n",
      "lr 2.000000e-03 reg 7.000000e-01 lrd 9.500000e-01 hs 3.000000e+02 train accuracy: 0.496163 val accuracy: 0.498000\n",
      "lr 2.000000e-03 reg 7.000000e-01 lrd 8.500000e-01 hs 3.000000e+02 train accuracy: 0.510592 val accuracy: 0.482000\n",
      "lr 2.000000e-03 reg 7.000000e-01 lrd 9.900000e-01 hs 4.000000e+02 train accuracy: 0.463429 val accuracy: 0.455000\n",
      "lr 2.000000e-03 reg 7.000000e-01 lrd 9.500000e-01 hs 4.000000e+02 train accuracy: 0.489204 val accuracy: 0.466000\n",
      "lr 2.000000e-03 reg 7.000000e-01 lrd 8.500000e-01 hs 4.000000e+02 train accuracy: 0.516980 val accuracy: 0.494000\n",
      "lr 2.000000e-03 reg 5.000000e-01 lrd 9.900000e-01 hs 2.000000e+02 train accuracy: 0.484571 val accuracy: 0.461000\n",
      "lr 2.000000e-03 reg 5.000000e-01 lrd 9.500000e-01 hs 2.000000e+02 train accuracy: 0.501857 val accuracy: 0.472000\n",
      "lr 2.000000e-03 reg 5.000000e-01 lrd 8.500000e-01 hs 2.000000e+02 train accuracy: 0.525735 val accuracy: 0.503000\n",
      "lr 2.000000e-03 reg 5.000000e-01 lrd 9.900000e-01 hs 3.000000e+02 train accuracy: 0.460347 val accuracy: 0.437000\n",
      "lr 2.000000e-03 reg 5.000000e-01 lrd 9.500000e-01 hs 3.000000e+02 train accuracy: 0.503490 val accuracy: 0.480000\n",
      "lr 2.000000e-03 reg 5.000000e-01 lrd 8.500000e-01 hs 3.000000e+02 train accuracy: 0.526327 val accuracy: 0.498000\n",
      "lr 2.000000e-03 reg 5.000000e-01 lrd 9.900000e-01 hs 4.000000e+02 train accuracy: 0.471286 val accuracy: 0.434000\n",
      "lr 2.000000e-03 reg 5.000000e-01 lrd 9.500000e-01 hs 4.000000e+02 train accuracy: 0.505755 val accuracy: 0.470000\n",
      "lr 2.000000e-03 reg 5.000000e-01 lrd 8.500000e-01 hs 4.000000e+02 train accuracy: 0.527245 val accuracy: 0.504000\n",
      "lr 1.000000e-03 reg 9.000000e-01 lrd 9.900000e-01 hs 2.000000e+02 train accuracy: 0.494510 val accuracy: 0.469000\n",
      "lr 1.000000e-03 reg 9.000000e-01 lrd 9.500000e-01 hs 2.000000e+02 train accuracy: 0.492837 val accuracy: 0.453000\n",
      "lr 1.000000e-03 reg 9.000000e-01 lrd 8.500000e-01 hs 2.000000e+02 train accuracy: 0.488918 val accuracy: 0.479000\n",
      "lr 1.000000e-03 reg 9.000000e-01 lrd 9.900000e-01 hs 3.000000e+02 train accuracy: 0.489959 val accuracy: 0.460000\n",
      "lr 1.000000e-03 reg 9.000000e-01 lrd 9.500000e-01 hs 3.000000e+02 train accuracy: 0.492612 val accuracy: 0.465000\n",
      "lr 1.000000e-03 reg 9.000000e-01 lrd 8.500000e-01 hs 3.000000e+02 train accuracy: 0.490878 val accuracy: 0.481000\n",
      "lr 1.000000e-03 reg 9.000000e-01 lrd 9.900000e-01 hs 4.000000e+02 train accuracy: 0.497980 val accuracy: 0.482000\n",
      "lr 1.000000e-03 reg 9.000000e-01 lrd 9.500000e-01 hs 4.000000e+02 train accuracy: 0.492694 val accuracy: 0.469000\n",
      "lr 1.000000e-03 reg 9.000000e-01 lrd 8.500000e-01 hs 4.000000e+02 train accuracy: 0.492633 val accuracy: 0.472000\n",
      "lr 1.000000e-03 reg 7.000000e-01 lrd 9.900000e-01 hs 2.000000e+02 train accuracy: 0.499531 val accuracy: 0.473000\n",
      "lr 1.000000e-03 reg 7.000000e-01 lrd 9.500000e-01 hs 2.000000e+02 train accuracy: 0.504857 val accuracy: 0.483000\n",
      "lr 1.000000e-03 reg 7.000000e-01 lrd 8.500000e-01 hs 2.000000e+02 train accuracy: 0.493694 val accuracy: 0.465000\n",
      "lr 1.000000e-03 reg 7.000000e-01 lrd 9.900000e-01 hs 3.000000e+02 train accuracy: 0.502673 val accuracy: 0.482000\n",
      "lr 1.000000e-03 reg 7.000000e-01 lrd 9.500000e-01 hs 3.000000e+02 train accuracy: 0.504633 val accuracy: 0.468000\n",
      "lr 1.000000e-03 reg 7.000000e-01 lrd 8.500000e-01 hs 3.000000e+02 train accuracy: 0.495143 val accuracy: 0.477000\n",
      "lr 1.000000e-03 reg 7.000000e-01 lrd 9.900000e-01 hs 4.000000e+02 train accuracy: 0.494612 val accuracy: 0.466000\n",
      "lr 1.000000e-03 reg 7.000000e-01 lrd 9.500000e-01 hs 4.000000e+02 train accuracy: 0.497286 val accuracy: 0.472000\n",
      "lr 1.000000e-03 reg 7.000000e-01 lrd 8.500000e-01 hs 4.000000e+02 train accuracy: 0.496367 val accuracy: 0.493000\n",
      "lr 1.000000e-03 reg 5.000000e-01 lrd 9.900000e-01 hs 2.000000e+02 train accuracy: 0.506980 val accuracy: 0.488000\n",
      "lr 1.000000e-03 reg 5.000000e-01 lrd 9.500000e-01 hs 2.000000e+02 train accuracy: 0.515816 val accuracy: 0.493000\n",
      "lr 1.000000e-03 reg 5.000000e-01 lrd 8.500000e-01 hs 2.000000e+02 train accuracy: 0.502184 val accuracy: 0.457000\n",
      "lr 1.000000e-03 reg 5.000000e-01 lrd 9.900000e-01 hs 3.000000e+02 train accuracy: 0.515633 val accuracy: 0.486000\n",
      "lr 1.000000e-03 reg 5.000000e-01 lrd 9.500000e-01 hs 3.000000e+02 train accuracy: 0.503816 val accuracy: 0.482000\n",
      "lr 1.000000e-03 reg 5.000000e-01 lrd 8.500000e-01 hs 3.000000e+02 train accuracy: 0.505898 val accuracy: 0.490000\n",
      "lr 1.000000e-03 reg 5.000000e-01 lrd 9.900000e-01 hs 4.000000e+02 train accuracy: 0.505449 val accuracy: 0.477000\n",
      "lr 1.000000e-03 reg 5.000000e-01 lrd 9.500000e-01 hs 4.000000e+02 train accuracy: 0.511980 val accuracy: 0.486000\n",
      "lr 1.000000e-03 reg 5.000000e-01 lrd 8.500000e-01 hs 4.000000e+02 train accuracy: 0.501959 val accuracy: 0.486000\n",
      "Best val accuracy: 0.504\n"
     ]
    }
   ],
   "source": [
    "best_net = None # store the best model into this\n",
    "\n",
    "\n",
    "#################################################################################\n",
    "# TODO: Tune hyperparameters using the validation set. Store your best trained  #\n",
    "# model in best_net.                                                            #\n",
    "#                                                                               #\n",
    "# Tweaking hyperparameters by hand can be fun, but you might find it useful to  #\n",
    "# write code to sweep through possible combinations of hyperparameters          #\n",
    "# automatically like we did on the previous exercises.                          #\n",
    "#################################################################################\n",
    "best_val = -1\n",
    "input_size = 32 * 32 * 3\n",
    "num_classes = 10\n",
    "\n",
    "# parameters to finetune\n",
    "hidden_sizes = [200, 300, 400]\n",
    "learning_rates = [2e-3, 1e-3]\n",
    "learning_rate_decays = [0.99, 0.95, 0.85]#[0.99, 0.95, 0.90, 0.85, 0.8]\n",
    "regularization_strengths = [0.9,0.7,0.5]\n",
    "results = {}\n",
    "\n",
    "for lr in learning_rates:\n",
    "    for reg_str in regularization_strengths:\n",
    "        for hs in hidden_sizes:\n",
    "            for lrd in learning_rate_decays:\n",
    "                net = ThreeLayerNet(input_size, hidden_size, num_classes)\n",
    "                stats = net.train(X_train, y_train, X_val, y_val,\n",
    "                                  num_iters=2000, batch_size=200,\n",
    "                                  learning_rate=lr, learning_rate_decay=lrd,\n",
    "                                  reg=reg_str, verbose=False)\n",
    "                y_train_pred = net.predict(X_train)\n",
    "                train_acc = np.mean(y_train == y_train_pred)\n",
    "                y_val_pred = net.predict(X_val)\n",
    "                val_acc = np.mean(y_val == y_val_pred)\n",
    "                results[(lr, reg_str, lrd, hs)] = train_acc, val_acc\n",
    "                print('lr %e reg %e lrd %e hs %e train accuracy: %f val accuracy: %f' % (\n",
    "                lr, reg_str, lrd, hs, train_acc, val_acc))\n",
    "                if best_val < val_acc:\n",
    "                    best_val = val_acc\n",
    "                    best_net = net\n",
    "print('Best val accuracy: ' + str(best_val))\n",
    "#################################################################################\n",
    "#                               END OF YOUR CODE                                #\n",
    "#################################################################################"
   ]
  },
  {
   "cell_type": "markdown",
   "metadata": {},
   "source": [
    "# Run on the test set [0pt]\n",
    "\n",
    "When you are done experimenting, you should evaluate your final trained network on the test set; you should get above 48%."
   ]
  },
  {
   "cell_type": "code",
   "execution_count": 11,
   "metadata": {},
   "outputs": [
    {
     "name": "stdout",
     "output_type": "stream",
     "text": [
      "Test accuracy:  0.492\n"
     ]
    }
   ],
   "source": [
    "test_acc = (best_net.predict(X_test) == y_test).mean()\n",
    "print('Test accuracy: ', test_acc)"
   ]
  }
 ],
 "metadata": {
  "kernelspec": {
   "display_name": "Python 3",
   "language": "python",
   "name": "python3"
  },
  "language_info": {
   "codemirror_mode": {
    "name": "ipython",
    "version": 3
   },
   "file_extension": ".py",
   "mimetype": "text/x-python",
   "name": "python",
   "nbconvert_exporter": "python",
   "pygments_lexer": "ipython3",
   "version": "3.6.5"
  }
 },
 "nbformat": 4,
 "nbformat_minor": 2
}
